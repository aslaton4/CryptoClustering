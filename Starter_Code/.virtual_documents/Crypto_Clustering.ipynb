# Import required libraries and dependencies
import pandas as pd
import sqlite3
from sqlalchemy import create_engine
import hvplot.pandas
from sklearn.cluster import KMeans
from sklearn.decomposition import PCA
from sklearn.preprocessing import StandardScaler


# Load the data into a Pandas DataFrame
df_market_data = pd.read_csv(
    "Resources/crypto_market_data.csv",
    index_col="coin_id")

# Display sample data
df_market_data.head(10)


# Generate summary statistics
df_market_data.describe()


# Plot your data to see what's in your DataFrame
df_market_data.hvplot.line(
    width=800,
    height=400,
    rot=90
)








# Use the `StandardScaler()` module from scikit-learn to normalize the data from the CSV file
from sklearn.preprocessing import StandardScaler

# Select only numerical columns (excluding 'coin_id')
numerical_cols = df_market_data.columns  # Use df_market_data instead of crypto_df
scaler = StandardScaler()
crypto_scaled = scaler.fit_transform(df_market_data[numerical_cols])


# Create a DataFrame with the scaled data
crypto_scaled_df = pd.DataFrame(crypto_scaled, columns=numerical_cols, index=df_market_data.index)

# Display the scaled DataFrame
crypto_scaled_df.head() 








# Create a list with the number of k-values from 1 to 11
k_values = list(range(1, 12))


# Create an empty list to store the inertia values
inertia_values = []

# Create a for loop to compute the inertia with each possible value of k
from sklearn.cluster import KMeans

# Inside the loop:
for k in k_values:
    
# 1. Create a KMeans model using the loop counter for the n_clusters
    kmeans = KMeans(n_clusters=k, random_state=42, n_init=10)
    
# 2. Fit the model to the data using `df_market_data_scaled`
    kmeans.fit(crypto_scaled_df)
    
# 3. Append the model.inertia_ to the inertia list
    inertia_values.append(kmeans.inertia_)


# Create a dictionary with the data to plot the Elbow curve
elbow_data = {"k": k_values, "inertia": inertia_values}

# Create a DataFrame with the data to plot the Elbow curve
elbow_df = pd.DataFrame(elbow_data)


import matplotlib.pyplot as plt

# Plot a line chart with all the inertia values computed with
# the different values of k to visually identify the optimal value for k.

# Plot the Elbow Curve
plt.figure(figsize=(8, 5))
plt.plot(elbow_df["k"], elbow_df["inertia"], marker='o', linestyle='-')

# Add labels and title
plt.xlabel('Number of Clusters (k)')
plt.ylabel('Inertia')
plt.title('Elbow Method for Optimal k')
plt.xticks(k_values)  # Ensure all k values are labeled
plt.grid()

# Show the plot
plt.show()












# Initialize the K-Means model using the best value for k
from sklearn.cluster import KMeans

# Use the best k value determined from the Elbow Method
best_k = 3  # Update this with the actual best k from your analysis

# Initialize the K-Means model
kmeans_model = KMeans(n_clusters=best_k, random_state=42, n_init=10)


# Fit the K-Means model using the scaled DataFrame
kmeans_model.fit(crypto_scaled_df)


# Predict the clusters to group the cryptocurrencies using the scaled DataFrame
cluster_labels = kmeans_model.predict(crypto_scaled_df)

# Print the resulting array of cluster values.
print(cluster_labels)


# Create a copy of the scaled DataFrame
crypto_clustered_df = crypto_scaled_df.copy()


# Add a new column to the copy of the scaled DataFrame with the predicted clusters
crypto_clustered_df["Cluster"] = cluster_labels

# Display the copy of the scaled DataFrame
crypto_clustered_df.head()


# Create a scatter plot using hvPlot by setting
# `x="price_change_percentage_24h"` and `y="price_change_percentage_7d"`.
# Color the graph points with the labels found using K-Means and
# add the crypto name in the `hover_cols` parameter to identify
# the cryptocurrency represented by each data point.

import hvplot.pandas

crypto_clustered_df.hvplot.scatter(
    x="price_change_percentage_24h",
    y="price_change_percentage_7d",
    by="Cluster",
    hover_cols=["coin_id"],  # Display the crypto name on hover
    width=800,
    height=500,
    title="Cryptocurrency Clusters Based on Price Change"
)








# Create a PCA model instance and set `n_components=3`.
from sklearn.decomposition import PCA

# Initialize PCA model with 3 principal components
pca = PCA(n_components=3)



# Use the PCA model with `fit_transform` to reduce the original scaled DataFrame
# down to three principal components.

crypto_pca = pca.fit_transform(crypto_scaled_df)

# View the scaled PCA data
# Convert the PCA output into a DataFrame
crypto_pca_df = pd.DataFrame(crypto_pca, columns=["PC1", "PC2", "PC3"], index=crypto_scaled_df.index)

# Display the first few rows of the PCA-transformed data
crypto_pca_df.head()


# Retrieve the explained variance to determine how much information
# can be attributed to each principal component.
explained_variance = pca.explained_variance_ratio_

# Print the explained variance for each principal component
print("Explained Variance for PC1, PC2, PC3:", explained_variance)

# Calculate total explained variance
total_explained_variance = explained_variance.sum()

# Print total explained variance
print("Total Explained Variance:", total_explained_variance)





# Create a new DataFrame with the PCA data.
crypto_pca_df = pd.DataFrame(crypto_pca, columns=["PC1", "PC2", "PC3"])

# Copy the crypto names from the original scaled DataFrame
crypto_pca_df["coin_id"] = crypto_scaled_df.index

# Set the coin_id column as index
crypto_pca_df.set_index("coin_id", inplace=True)

# Display the scaled PCA DataFrame
crypto_pca_df.head()








# Create a list with the number of k-values from 1 to 11
k_values_pca = list(range(1, 12))


# Create an empty list to store the inertia values
inertia_values_pca = []

# Create a for loop to compute the inertia with each possible value of k
from sklearn.cluster import KMeans

for k in k_values_pca:
    # 1. Create a KMeans model using the loop counter for n_clusters
    kmeans_pca = KMeans(n_clusters=k, random_state=42, n_init=10)
    
    # 2. Fit the model to the data using the PCA-transformed DataFrame
    kmeans_pca.fit(crypto_pca_df)
    
    # 3. Append the model's inertia_ to the inertia list
    inertia_values_pca.append(kmeans_pca.inertia_)



# Create a dictionary with the data to plot the Elbow curve
elbow_data_pca = {"k": k_values_pca, "inertia": inertia_values_pca}

# Create a DataFrame with the data to plot the Elbow curve
elbow_df_pca = pd.DataFrame(elbow_data_pca)


# Plot a line chart with all the inertia values computed with
# the different values of k to visually identify the optimal value for k.
import matplotlib.pyplot as plt

plt.figure(figsize=(8, 5))
plt.plot(elbow_df_pca["k"], elbow_df_pca["inertia"], marker='o', linestyle='-')

# Labels and title
plt.xlabel('Number of Clusters (k)')
plt.ylabel('Inertia')
plt.title('Elbow Method for Optimal k (PCA Data)')
plt.xticks(k_values_pca)
plt.grid()

# Show the plot
plt.show()








# Initialize the K-Means model using the best value for k
best_k_pca = 3 
kmeans_pca = KMeans(n_clusters=best_k_pca, random_state=42, n_init=10)


# Fit the K-Means model using the PCA data
kmeans_pca.fit(crypto_pca_df)


# Predict the clusters to group the cryptocurrencies using the scaled PCA DataFrame
pca_cluster_labels = kmeans_pca.predict(crypto_pca_df)

# Print the resulting array of cluster values.
print(pca_cluster_labels)


# Create a copy of the scaled PCA DataFrame
crypto_pca_clustered_df = crypto_pca_df.copy()

# Add a new column to the copy of the PCA DataFrame with the predicted clusters
crypto_pca_clustered_df["Cluster"] = pca_cluster_labels

# Display the copy of the scaled PCA DataFrame
crypto_pca_clustered_df.head()


# Create a scatter plot using hvPlot by setting
# `x="PC1"` and `y="PC2"`.
# Color the graph points with the labels found using K-Means and
# add the crypto name in the `hover_cols` parameter to identify
# the cryptocurrency represented by each data point.

crypto_pca_clustered_df.hvplot.scatter(
    x="PC1",
    y="PC2",
    by="Cluster",
    hover_cols=["coin_id"],  
    width=800,
    height=500,
    title="Cryptocurrency Clusters Based on PCA Features"
)





# Composite plot to contrast the Elbow curves
import matplotlib.pyplot as plt

plt.figure(figsize=(10, 5))
plt.plot(elbow_df["k"], elbow_df["inertia"], marker='o', linestyle='-', label='Original Data')
plt.plot(elbow_df_pca["k"], elbow_df_pca["inertia"], marker='s', linestyle='--', label='PCA Data')

plt.xlabel('Number of Clusters (k)')
plt.ylabel('Inertia')
plt.title('Comparison of Elbow Curves')
plt.legend()
plt.grid()
plt.show()


# Composite plot to contrast the clusters
scatter_original = crypto_clustered_df.hvplot.scatter(
    x="price_change_percentage_24h",
    y="price_change_percentage_7d",
    by="Cluster",
    hover_cols=["coin_id"],
    title="K-Means Clustering (Original Data)"
)

scatter_pca = crypto_pca_clustered_df.hvplot.scatter(
    x="PC1",
    y="PC2",
    by="Cluster",
    hover_cols=["coin_id"],
    title="K-Means Clustering (PCA Data)"
)

scatter_original + scatter_pca






